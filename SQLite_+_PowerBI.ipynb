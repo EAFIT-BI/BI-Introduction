{
  "nbformat": 4,
  "nbformat_minor": 0,
  "metadata": {
    "colab": {
      "provenance": [],
      "authorship_tag": "ABX9TyPtRB3YZf9JmZxR1vt2hLjV",
      "include_colab_link": true
    },
    "kernelspec": {
      "name": "python3",
      "display_name": "Python 3"
    },
    "language_info": {
      "name": "python"
    }
  },
  "cells": [
    {
      "cell_type": "markdown",
      "metadata": {
        "id": "view-in-github",
        "colab_type": "text"
      },
      "source": [
        "<a href=\"https://colab.research.google.com/github/EAFIT-BI/BI-Introduction-2024-1/blob/main/SQLite_%2B_PowerBI.ipynb\" target=\"_parent\"><img src=\"https://colab.research.google.com/assets/colab-badge.svg\" alt=\"Open In Colab\"/></a>"
      ]
    },
    {
      "cell_type": "markdown",
      "source": [
        "Usualmente encontramos información en las organizaciones almacenada de forma aislada. Podemos organizar una base de datos relacional con toda la información de tal manera que sea más accesible para el usuario\n"
      ],
      "metadata": {
        "id": "r5v_JUMjrcST"
      }
    },
    {
      "cell_type": "code",
      "execution_count": 1,
      "metadata": {
        "id": "BYj3oe3zpGgH"
      },
      "outputs": [],
      "source": [
        "#cargamos las librerías necesarias\n",
        "\n",
        "import pandas as pd\n",
        "import sqlite3\n",
        "\n",
        "#damos lectura a los archivos de excel y los almacenamos en variables independientes\n",
        "\n",
        "datos_productos = pd.read_csv(\"/content/info_productos.csv\")\n",
        "datos_ventas = pd.read_csv(\"/content/info_ventas.csv\")"
      ]
    },
    {
      "cell_type": "code",
      "source": [
        "#visualizamos los primeros elementos de cada tabla\n",
        "datos_productos.head()"
      ],
      "metadata": {
        "id": "B-v75V5-sahF"
      },
      "execution_count": null,
      "outputs": []
    },
    {
      "cell_type": "code",
      "source": [
        "datos_ventas.head()"
      ],
      "metadata": {
        "id": "JAhGpZy6sli2"
      },
      "execution_count": null,
      "outputs": []
    },
    {
      "cell_type": "code",
      "source": [
        "#imprimimos las dimensiones de las dos tablas (filas, columnas)\n",
        "print(\"Dimensión tabla productos\", datos_productos.shape)\n",
        "print(\"Dimensión tabla ventas\", datos_ventas.shape)"
      ],
      "metadata": {
        "colab": {
          "base_uri": "https://localhost:8080/"
        },
        "id": "1jncNfTHsxPT",
        "outputId": "fbf2a2c9-16a0-44a4-a62e-ace914ca405f"
      },
      "execution_count": 4,
      "outputs": [
        {
          "output_type": "stream",
          "name": "stdout",
          "text": [
            "Dimensión tabla productos (10000, 3)\n",
            "Dimensión tabla ventas (1000, 4)\n"
          ]
        }
      ]
    },
    {
      "cell_type": "code",
      "source": [
        "#hacemos la conexión a la base de datos. Si la base de datos no existe, la crea\n",
        "\n",
        "conn = sqlite3.connect('veaycompre.db')"
      ],
      "metadata": {
        "id": "qBZqebjWtX9r"
      },
      "execution_count": 5,
      "outputs": []
    },
    {
      "cell_type": "code",
      "source": [
        "#creamos el cursos (apuntador a la base de datos)\n",
        "\n",
        "c = conn.cursor()"
      ],
      "metadata": {
        "id": "EM3IxqkHt2hy"
      },
      "execution_count": 6,
      "outputs": []
    },
    {
      "cell_type": "code",
      "source": [
        "#creamos la tabla producto\n",
        "\n",
        "c.execute('''CREATE TABLE productos\n",
        "(id_producto INTEGER PRIMARY KEY,\n",
        "nombre TEXT,\n",
        "precio REAL)''')"
      ],
      "metadata": {
        "colab": {
          "base_uri": "https://localhost:8080/"
        },
        "id": "3bAnu--ot-TP",
        "outputId": "4826b62c-53ad-4c8c-f86f-1512297d348a"
      },
      "execution_count": 7,
      "outputs": [
        {
          "output_type": "execute_result",
          "data": {
            "text/plain": [
              "<sqlite3.Cursor at 0x7ef95bc82c40>"
            ]
          },
          "metadata": {},
          "execution_count": 7
        }
      ]
    },
    {
      "cell_type": "code",
      "source": [
        "#pasamos la información del DataFrame a la tabla productos en sqlite\n",
        "\n",
        "datos_productos.to_sql('productos', conn, if_exists = 'append', index = False)"
      ],
      "metadata": {
        "colab": {
          "base_uri": "https://localhost:8080/"
        },
        "id": "zSnYfxuyu6YZ",
        "outputId": "b2692577-9b71-4ecf-f9a1-88cfa00ccc1b"
      },
      "execution_count": 8,
      "outputs": [
        {
          "output_type": "execute_result",
          "data": {
            "text/plain": [
              "10000"
            ]
          },
          "metadata": {},
          "execution_count": 8
        }
      ]
    },
    {
      "cell_type": "code",
      "source": [
        "#agregamos información a la tabla productos directamente\n",
        "\n",
        "#hacemos una lista con la información faltante\n",
        "\n",
        "productos_faltantes = [(10001, 'Laptop', 1200.00),\n",
        "                       (10002, 'Coco', 2.00),\n",
        "                       (10003, 'Cuaderno', 1.50)]\n",
        "\n",
        "#insertamos la información en la tabla existente\n",
        "\n",
        "c.executemany('INSERT INTO productos VALUES (?, ?, ?)', productos_faltantes)"
      ],
      "metadata": {
        "colab": {
          "base_uri": "https://localhost:8080/"
        },
        "id": "ExEg5e01viT0",
        "outputId": "3ffbcc6c-9568-4e4f-f8e9-106a832debd9"
      },
      "execution_count": 9,
      "outputs": [
        {
          "output_type": "execute_result",
          "data": {
            "text/plain": [
              "<sqlite3.Cursor at 0x7ef95bc82c40>"
            ]
          },
          "metadata": {},
          "execution_count": 9
        }
      ]
    },
    {
      "cell_type": "code",
      "source": [
        "#creamos la tabla ventas\n",
        "\n",
        "c.execute('''CREATE TABLE ventas\n",
        "(id_ventas INTEGER PRIMARY KEY,\n",
        "id_producto INTEGER,\n",
        "cantidad INTEGER,\n",
        "fecha DATE,\n",
        "FOREIGN KEY(id_producto) REFERENCES productos(id_producto)) ''')"
      ],
      "metadata": {
        "colab": {
          "base_uri": "https://localhost:8080/"
        },
        "id": "cpYxVk5Aww8w",
        "outputId": "f526700d-3c3e-41f9-8cb5-970b5f0da8fb"
      },
      "execution_count": 11,
      "outputs": [
        {
          "output_type": "execute_result",
          "data": {
            "text/plain": [
              "<sqlite3.Cursor at 0x7ef95bc82c40>"
            ]
          },
          "metadata": {},
          "execution_count": 11
        }
      ]
    },
    {
      "cell_type": "code",
      "source": [
        "#pasamos la información del DataFrame a la nueva tabla\n",
        "\n",
        "datos_ventas.to_sql('ventas', conn, if_exists = 'append', index = False)\n",
        "\n",
        "#guardamos los cambios\n",
        "conn.commit()\n",
        "#cerramos la conexión\n",
        "conn.close()"
      ],
      "metadata": {
        "id": "8iuLKHOdxtyl"
      },
      "execution_count": 12,
      "outputs": []
    }
  ]
}